{
  "cells": [
    {
      "cell_type": "markdown",
      "id": "b51b68c3-3b92-4129-9ac6-edcbbbea8975",
      "metadata": {
        "id": "b51b68c3-3b92-4129-9ac6-edcbbbea8975"
      },
      "source": [
        "[![Colab Badge](http://img.shields.io/badge/Colaboratory-black?style=for-the-badge&logo=google-colab)](https://colab.research.google.com/github/curieuxjy/Cotegorithm/blob/main/ecote/appendix_a.ipynb)"
      ]
    },
    {
      "cell_type": "markdown",
      "id": "1609a7bd-cac2-4f97-a85b-c6db63ffc4f4",
      "metadata": {
        "id": "1609a7bd-cac2-4f97-a85b-c6db63ffc4f4"
      },
      "source": [
        "# 코딩 테스트를 위한 파이썬 문법\n",
        "\n",
        "> 기초적인 문법들이지만 자주 사용하지 않아 놓치기 쉬운 부분들과 잘몰랐었던 부분들을 요약\n",
        "> \n",
        "> 자세한 내용은 책과 강의에 잘 나와있으므로 빠르게 훑어볼 수 있는 checklist처럼 활용"
      ]
    },
    {
      "cell_type": "markdown",
      "id": "003bd05e-c0eb-421d-9311-c5eea045bc2e",
      "metadata": {
        "id": "003bd05e-c0eb-421d-9311-c5eea045bc2e"
      },
      "source": [
        "## 1. 자료형\n",
        "\n",
        "- 2진수 체계에서는 0.9를 정확히 표현할 수 없어 최대한 가깝게 표현하여 오차가 발생한다. `round()`함수를 이용하여 해결한다."
      ]
    },
    {
      "cell_type": "code",
      "execution_count": null,
      "id": "a96051e2-8d59-45a8-b0ff-262a069f6b34",
      "metadata": {
        "id": "a96051e2-8d59-45a8-b0ff-262a069f6b34",
        "outputId": "e34437a1-06b4-4fc6-96d8-6418d65485a3"
      },
      "outputs": [
        {
          "name": "stdout",
          "output_type": "stream",
          "text": [
            "0.8999999999999999\n",
            "False\n"
          ]
        }
      ],
      "source": [
        "a = 0.3+0.6\n",
        "print(a)\n",
        "\n",
        "if a==0.9:\n",
        "    print(True)\n",
        "else:\n",
        "    print(False)"
      ]
    },
    {
      "cell_type": "code",
      "execution_count": null,
      "id": "c9c68803-4502-4f7f-90c9-bffd94d8f0f9",
      "metadata": {
        "tags": [],
        "id": "c9c68803-4502-4f7f-90c9-bffd94d8f0f9",
        "outputId": "fd6eca7c-5e24-4bd4-8f96-055e2e7575c0"
      },
      "outputs": [
        {
          "name": "stdout",
          "output_type": "stream",
          "text": [
            "0.9\n",
            "True\n"
          ]
        }
      ],
      "source": [
        "a = 0.3+0.6\n",
        "print(round(a, 4))\n",
        "\n",
        "if round(a, 4)==0.9:\n",
        "    print(True)\n",
        "else:\n",
        "    print(False)"
      ]
    },
    {
      "cell_type": "markdown",
      "id": "15e5041e-6cea-467c-86c3-30b69c2abefa",
      "metadata": {
        "id": "15e5041e-6cea-467c-86c3-30b69c2abefa"
      },
      "source": [
        "- 리스트 컴프리헨션을 이용하여 2차원 리스트를 초기화할 때 사용한다. 단순히 2중 `*`연산자로 초기화할 경우 의도치 않는 경우가 나올 수 있으니 주의한다."
      ]
    },
    {
      "cell_type": "code",
      "execution_count": null,
      "id": "bd08983e-6673-4340-b941-120f831d606f",
      "metadata": {
        "tags": [],
        "id": "bd08983e-6673-4340-b941-120f831d606f",
        "outputId": "8ef80b6c-c3c8-4cfc-b39e-16d0b1fd9db7"
      },
      "outputs": [
        {
          "name": "stdout",
          "output_type": "stream",
          "text": [
            "[[0, 0, 0, 0], [0, 0, 0, 0], [0, 0, 0, 0]]\n"
          ]
        }
      ],
      "source": [
        "n = 3 # row\n",
        "m = 4 # col\n",
        "array = [[0]*m for _ in range(n)]\n",
        "print(array)"
      ]
    },
    {
      "cell_type": "code",
      "execution_count": null,
      "id": "2dbab060-b5ef-485c-8977-643e183eb250",
      "metadata": {
        "tags": [],
        "id": "2dbab060-b5ef-485c-8977-643e183eb250",
        "outputId": "6d171ac7-523f-4efc-a464-3b1ce69f76a5"
      },
      "outputs": [
        {
          "name": "stdout",
          "output_type": "stream",
          "text": [
            "[[0, 0, 0, 0], [0, 0, 0, 0], [0, 0, 0, 0]]\n"
          ]
        }
      ],
      "source": [
        "array2 = [[0] * m] * n \n",
        "print(array2)"
      ]
    },
    {
      "cell_type": "code",
      "execution_count": null,
      "id": "a48cfcd5-d4e1-4dcf-921a-5e40f9672118",
      "metadata": {
        "tags": [],
        "id": "a48cfcd5-d4e1-4dcf-921a-5e40f9672118",
        "outputId": "c4c65bd1-57b5-4bd5-96a8-3e0ec55d2eb3"
      },
      "outputs": [
        {
          "name": "stdout",
          "output_type": "stream",
          "text": [
            "[[0, 0, 0, 0], [0, 5, 0, 0], [0, 0, 0, 0]]\n",
            "[[0, 5, 0, 0], [0, 5, 0, 0], [0, 5, 0, 0]]\n"
          ]
        }
      ],
      "source": [
        "# 특정 위치의 원소를 5로 치환\n",
        "array[1][1] = 5\n",
        "print(array)\n",
        "\n",
        "array2[1][1] = 5 # 내부의 [[0]*m]을 모두 같은 객체로 인식\n",
        "print(array2)"
      ]
    },
    {
      "cell_type": "markdown",
      "id": "e9b2f829-41c4-4c41-94d6-10de3baaf939",
      "metadata": {
        "id": "e9b2f829-41c4-4c41-94d6-10de3baaf939"
      },
      "source": [
        "- `remove()`는 특정 값의 원소를 1개만 제거하므로 모두 제거를 하기 원한다면 별도의 코드가 필요하다."
      ]
    },
    {
      "cell_type": "code",
      "execution_count": null,
      "id": "50025f37-d6ae-4162-ba54-abb888ee0785",
      "metadata": {
        "tags": [],
        "id": "50025f37-d6ae-4162-ba54-abb888ee0785",
        "outputId": "90c79cbf-a7dc-4cc4-c492-11e6a7b0fa9e"
      },
      "outputs": [
        {
          "name": "stdout",
          "output_type": "stream",
          "text": [
            "[4, 3, 2, 1, 1, 5]\n"
          ]
        }
      ],
      "source": [
        "a = [1, 4, 3, 2, 1, 1, 5]\n",
        "a.remove(1)\n",
        "print(a)"
      ]
    },
    {
      "cell_type": "code",
      "execution_count": null,
      "id": "ad1b8cf2-112e-49c4-9628-4144f1390d53",
      "metadata": {
        "tags": [],
        "id": "ad1b8cf2-112e-49c4-9628-4144f1390d53",
        "outputId": "452f1937-7fc6-4900-de5f-8d319a93f554"
      },
      "outputs": [
        {
          "name": "stdout",
          "output_type": "stream",
          "text": [
            "[4, 3, 5]\n"
          ]
        }
      ],
      "source": [
        "a = [1, 4, 3, 2, 1, 1, 5]\n",
        "remove_set = {1, 2}\n",
        "\n",
        "a = [i for i in a if i not in remove_set]\n",
        "print(a)"
      ]
    },
    {
      "cell_type": "markdown",
      "id": "561de851-5c0b-444a-8f43-e8c32f478b47",
      "metadata": {
        "id": "561de851-5c0b-444a-8f43-e8c32f478b47"
      },
      "source": [
        "- 튜플은 서로다른 데이터들의 순서쌍을 만들 때나 Hashing key로 사용. 리스트보다 메모리 효율이 좋다.(공간복잡도를 낮출 수 있음)"
      ]
    },
    {
      "cell_type": "markdown",
      "id": "e5666a6c-3018-45bb-9f3b-f71214531eca",
      "metadata": {
        "id": "e5666a6c-3018-45bb-9f3b-f71214531eca"
      },
      "source": [
        "- 사전은 데이터의 검색 및 수정에 $O(1)$ 상수시간에 처리할 수 있다.(Hash Table)"
      ]
    },
    {
      "cell_type": "markdown",
      "id": "7dfea849-7bd7-49bd-b8d4-eae36dfc7d11",
      "metadata": {
        "tags": [],
        "id": "7dfea849-7bd7-49bd-b8d4-eae36dfc7d11"
      },
      "source": [
        "- 사전에서 `keys()`, `values()`로 키나 값을 가져올 수 있는데 각각 `dict_keys`, `dict_values` 객체로 반환되므로 한번 `list()`로 변환하여 사용한다."
      ]
    },
    {
      "cell_type": "code",
      "execution_count": null,
      "id": "34978fce-f236-4f0e-86ab-787a7b8cf397",
      "metadata": {
        "tags": [],
        "id": "34978fce-f236-4f0e-86ab-787a7b8cf397",
        "outputId": "774b5380-b19f-4da9-bf95-873ba898a238"
      },
      "outputs": [
        {
          "name": "stdout",
          "output_type": "stream",
          "text": [
            "dict_keys(['A', 'B'])\n",
            "dict_values([1, 2])\n",
            "['A', 'B']\n",
            "[1, 2]\n"
          ]
        }
      ],
      "source": [
        "data = {'A':1, 'B':2}\n",
        "print(data.keys())\n",
        "print(data.values())\n",
        "print(list(data.keys()))\n",
        "print(list(data.values()))"
      ]
    },
    {
      "cell_type": "markdown",
      "id": "c791f91f-d21a-4128-a0be-fac4c7aa87ac",
      "metadata": {
        "id": "c791f91f-d21a-4128-a0be-fac4c7aa87ac"
      },
      "source": [
        "- 집합에서 한 개의 원소를 추가할 때는 `add()`를 여러개의 원소를 추가할 때는 `update()`를 사용한다. (자주 사용하는 자료형이 아니라서 조금 낯설다.)"
      ]
    },
    {
      "cell_type": "code",
      "execution_count": null,
      "id": "1bb4ba24-c42e-495b-8958-978cb8d41f94",
      "metadata": {
        "tags": [],
        "id": "1bb4ba24-c42e-495b-8958-978cb8d41f94",
        "outputId": "5254b242-8d4e-4af3-9acd-9fd6369508a9"
      },
      "outputs": [
        {
          "name": "stdout",
          "output_type": "stream",
          "text": [
            "{1, 2, 4, 5}\n",
            "{1, 2, 4, 5, 6}\n",
            "{0, 1, 2, 3, 4, 5, 6}\n",
            "{0, 1, 3, 4, 5, 6}\n"
          ]
        }
      ],
      "source": [
        "data = set([2, 4, 1, 4, 5])\n",
        "print(data)\n",
        "\n",
        "data.add(6)\n",
        "print(data)\n",
        "\n",
        "data.update([3, 0])\n",
        "print(data)\n",
        "\n",
        "data.remove(2)\n",
        "print(data)"
      ]
    },
    {
      "cell_type": "markdown",
      "id": "762fb776-501f-475e-867f-b56fb2db22ee",
      "metadata": {
        "id": "762fb776-501f-475e-867f-b56fb2db22ee"
      },
      "source": [
        "## 2. 조건문"
      ]
    },
    {
      "cell_type": "markdown",
      "id": "ee3f8c75-0d32-4a74-91a9-63639d83a8a4",
      "metadata": {
        "id": "ee3f8c75-0d32-4a74-91a9-63639d83a8a4"
      },
      "source": [
        "- 조건부 표현식(Conditional Expression)을 활용하여 한줄에 코드를 작성해보자. 리스트에 있는 원소의 값을 변경해서, 또 다른 리스트를 만들고자 할 때 매우 간결하게 사용할 수 있다.(리스트 컴프리헨션 참고)"
      ]
    },
    {
      "cell_type": "code",
      "execution_count": null,
      "id": "fed5b5f4-8b12-4389-b392-07b1e0036032",
      "metadata": {
        "tags": [],
        "id": "fed5b5f4-8b12-4389-b392-07b1e0036032",
        "outputId": "2270219b-2ecf-4a38-d622-99fd84ed86d5"
      },
      "outputs": [
        {
          "name": "stdout",
          "output_type": "stream",
          "text": [
            "Success\n"
          ]
        }
      ],
      "source": [
        "score = 85\n",
        "result = \"Success\" if score >= 80 else \"Fail\"\n",
        "print(result)"
      ]
    },
    {
      "cell_type": "code",
      "execution_count": null,
      "id": "98cb0870-d561-45b9-be3c-011f51529589",
      "metadata": {
        "tags": [],
        "id": "98cb0870-d561-45b9-be3c-011f51529589",
        "outputId": "e1dc31d4-75b8-4387-efa6-70add0f23218"
      },
      "outputs": [
        {
          "name": "stdout",
          "output_type": "stream",
          "text": [
            "[1, 2, 4]\n"
          ]
        }
      ],
      "source": [
        "a = [1, 2, 3, 4, 5, 5, 5]\n",
        "remove_set={3, 5}\n",
        "result = [i for i in a if i not in remove_set]\n",
        "print(result)"
      ]
    },
    {
      "cell_type": "markdown",
      "id": "a34a82be-fd96-47d2-8e6e-ebde6314c2f4",
      "metadata": {
        "id": "a34a82be-fd96-47d2-8e6e-ebde6314c2f4"
      },
      "source": [
        "- 파이썬에서는 삼항 비교연산이 가능하다."
      ]
    },
    {
      "cell_type": "code",
      "execution_count": null,
      "id": "57ecf9e8-ef67-4bc7-a3d9-5b021d374266",
      "metadata": {
        "tags": [],
        "id": "57ecf9e8-ef67-4bc7-a3d9-5b021d374266",
        "outputId": "2399d0af-7127-4a9a-f7f4-76316f1c6d51"
      },
      "outputs": [
        {
          "name": "stdout",
          "output_type": "stream",
          "text": [
            "x는 0이상 20이하\n"
          ]
        }
      ],
      "source": [
        "x = 15\n",
        "if 0 < x < 20:\n",
        "    print(\"x는 0이상 20이하\")"
      ]
    },
    {
      "cell_type": "markdown",
      "id": "616f50d9-5aa2-41b4-9344-27435c324a2f",
      "metadata": {
        "id": "616f50d9-5aa2-41b4-9344-27435c324a2f"
      },
      "source": [
        "## 3. 반복문\n",
        "- 특별히 새로운 내용이 없다. for 문이 while보다 더 소스코드가 짧은 경우가 많다고 한다."
      ]
    },
    {
      "cell_type": "markdown",
      "id": "2dd8224a-58ea-4725-b408-71dc5dd112ad",
      "metadata": {
        "id": "2dd8224a-58ea-4725-b408-71dc5dd112ad"
      },
      "source": [
        "## 4. 함수"
      ]
    },
    {
      "cell_type": "markdown",
      "id": "9cdb2855-8338-4047-9c76-368e18c899b5",
      "metadata": {
        "id": "9cdb2855-8338-4047-9c76-368e18c899b5"
      },
      "source": [
        "- 람다 표현식을 사용하여 간단한 함수들을 정의하자. 정렬 라이브러리(`sorted()`)를 사용할 때 정렬 기준(Key)을 설정할 때 자주 사용된다."
      ]
    },
    {
      "cell_type": "code",
      "execution_count": null,
      "id": "6db7d5df-d13b-46d3-8469-8236457c2d1c",
      "metadata": {
        "tags": [],
        "id": "6db7d5df-d13b-46d3-8469-8236457c2d1c",
        "outputId": "2c911f13-a337-43f2-f141-0c58a83ec332"
      },
      "outputs": [
        {
          "name": "stdout",
          "output_type": "stream",
          "text": [
            "[('A', 50), ('C', 70), ('B', 95)]\n"
          ]
        }
      ],
      "source": [
        "array = [('A', 50), ('B', 95), ('C', 70)]\n",
        "print(sorted(array, key=lambda x:x[1]))"
      ]
    },
    {
      "cell_type": "code",
      "execution_count": null,
      "id": "de096a68-844d-4590-a813-4112b8660a2c",
      "metadata": {
        "tags": [],
        "id": "de096a68-844d-4590-a813-4112b8660a2c",
        "outputId": "0ee4377c-2de2-4d30-b366-37f8c93c1fcc"
      },
      "outputs": [
        {
          "name": "stdout",
          "output_type": "stream",
          "text": [
            "[7, 9, 11, 13, 15]\n"
          ]
        }
      ],
      "source": [
        "list1 = [1,2,3,4,5]\n",
        "list2 = [6,7,8,9,10]\n",
        "\n",
        "result = map(lambda a, b:a+b, list1, list2)\n",
        "print(list(result)) # map은 lazy evaluation"
      ]
    },
    {
      "cell_type": "markdown",
      "id": "a3db6636-7b25-41c2-af87-60292be6ab32",
      "metadata": {
        "id": "a3db6636-7b25-41c2-af87-60292be6ab32"
      },
      "source": [
        "## 5. 입출력"
      ]
    },
    {
      "cell_type": "markdown",
      "id": "efd3cc0c-0bc0-4c80-bdcd-ce9db7b78ae6",
      "metadata": {
        "id": "efd3cc0c-0bc0-4c80-bdcd-ce9db7b78ae6"
      },
      "source": [
        "- 입력을 처리할 때 거의 반사적으로 사용하게 되는 코드"
      ]
    },
    {
      "cell_type": "code",
      "execution_count": null,
      "id": "ffacaab1-6a01-4f01-901c-293eeeaf183b",
      "metadata": {
        "tags": [],
        "id": "ffacaab1-6a01-4f01-901c-293eeeaf183b",
        "outputId": "cf083814-0f55-4187-b1c6-a1c44116bbc6"
      },
      "outputs": [
        {
          "name": "stdin",
          "output_type": "stream",
          "text": [
            " 3\n",
            " 1 3 4\n"
          ]
        },
        {
          "name": "stdout",
          "output_type": "stream",
          "text": [
            "[4, 3, 1]\n"
          ]
        }
      ],
      "source": [
        "n = int(input())\n",
        "data = list(map(int, input().split()))\n",
        "\n",
        "data.sort(reverse=True)\n",
        "print(data)"
      ]
    },
    {
      "cell_type": "markdown",
      "id": "1b972e21-f114-4d14-baf9-81c1c9956a7f",
      "metadata": {
        "id": "1b972e21-f114-4d14-baf9-81c1c9956a7f"
      },
      "source": [
        "- 입력 데이터 수가 **적을 때**는 바로 packing을 하자."
      ]
    },
    {
      "cell_type": "code",
      "execution_count": null,
      "id": "36693711-f01b-4db0-adb0-f592d3ff607d",
      "metadata": {
        "tags": [],
        "id": "36693711-f01b-4db0-adb0-f592d3ff607d",
        "outputId": "dc2e50cb-3068-40a8-9f62-333462c33fd8"
      },
      "outputs": [
        {
          "name": "stdin",
          "output_type": "stream",
          "text": [
            " 5 7 9\n"
          ]
        },
        {
          "name": "stdout",
          "output_type": "stream",
          "text": [
            "5 7 9\n"
          ]
        }
      ],
      "source": [
        "n, m, k = map(int, input().split())\n",
        "print(n, m, k)"
      ]
    },
    {
      "cell_type": "markdown",
      "id": "3769113c-eef2-4595-a9a8-e304565b9184",
      "metadata": {
        "id": "3769113c-eef2-4595-a9a8-e304565b9184"
      },
      "source": [
        "- 입력 데이터 수가 **많을 때**는 `sys` 라이브러리를 이용하자. `readline()`은 엔터가 줄 바꿈 기호로 입력되어서 이 공백 문자를 `rstrip()`으로 제거해준다.\n",
        "\n",
        "    ```python\n",
        "    import sys\n",
        "    import time\n",
        "\n",
        "    start = time.time()\n",
        "    data = sys.stdin.readline().rstrip() # jupyuter에서 stdin 작동 안됨\n",
        "    print(time.time()-start)\n",
        "\n",
        "    start = time.time()\n",
        "    data = input() \n",
        "    print(time.time()-start)\n",
        "    ```\n",
        "    - OUTPUT\n",
        "\n",
        "    ```\n",
        "    hello\n",
        "    1.8883404731750488\n",
        "    hello\n",
        "    3.0959155559539795\n",
        "    ```"
      ]
    },
    {
      "cell_type": "markdown",
      "id": "dbdf2b66-19e6-41a7-aa33-8e39d0ff348a",
      "metadata": {
        "id": "dbdf2b66-19e6-41a7-aa33-8e39d0ff348a"
      },
      "source": [
        "- 3.6버젼 이상이면 f-string을 사용할 수 있으므로 데이터의 자료형을 신경안쓰고 출력할 수 있다."
      ]
    },
    {
      "cell_type": "code",
      "execution_count": null,
      "id": "5ccacb37-67d0-4b1f-9e02-fb4173aaf517",
      "metadata": {
        "tags": [],
        "id": "5ccacb37-67d0-4b1f-9e02-fb4173aaf517",
        "outputId": "762e6964-cf1b-47e5-e8c1-3d72ddf6719e"
      },
      "outputs": [
        {
          "name": "stdout",
          "output_type": "stream",
          "text": [
            "THe answer is 7\n"
          ]
        }
      ],
      "source": [
        "answer = 7\n",
        "print(f\"THe answer is {answer}\")"
      ]
    },
    {
      "cell_type": "markdown",
      "id": "97de07ff-1d41-437e-a557-c6ed51876994",
      "metadata": {
        "id": "97de07ff-1d41-437e-a557-c6ed51876994"
      },
      "source": [
        "## 6. 주요 라이브러리의 문법과 유의점"
      ]
    },
    {
      "cell_type": "markdown",
      "id": "1b09281f-8e00-4d03-a9a0-478af0c0fedd",
      "metadata": {
        "id": "1b09281f-8e00-4d03-a9a0-478af0c0fedd"
      },
      "source": [
        "- 내장함수 활용하자. `sum()`, `min()`, `max()`, `eval()`, `sorted()`-단 iterable 객체는 기본으로 `sort()`함수가 있음"
      ]
    },
    {
      "cell_type": "code",
      "execution_count": null,
      "id": "43915cf1-c6b7-4e2c-8e6d-d9b6cc07211f",
      "metadata": {
        "tags": [],
        "id": "43915cf1-c6b7-4e2c-8e6d-d9b6cc07211f",
        "outputId": "4508bd42-68a3-4aeb-e799-3a0774292285"
      },
      "outputs": [
        {
          "name": "stdout",
          "output_type": "stream",
          "text": [
            "56\n"
          ]
        }
      ],
      "source": [
        "result = eval(\"(3+5)*7\") # 잘 몰랐던 내장함수 eval(). 수학 수식이 문자열 형식으로 들어오면 계산한 결과를 반환.\n",
        "print(result)"
      ]
    },
    {
      "cell_type": "markdown",
      "id": "0a347046-6a53-40ec-9507-e934d702c13d",
      "metadata": {
        "id": "0a347046-6a53-40ec-9507-e934d702c13d"
      },
      "source": [
        "- `itertools`는 순열과 조합을 나타내야할 때 유용하다. `permutations`, `combinations`, `product`(중복순열), `combinations_with_replacement`(중복조합)\n",
        "    - 다 클래스이므로 객체 초기화 후에 리스트 자료형으로 변환해야 한다."
      ]
    },
    {
      "cell_type": "code",
      "execution_count": null,
      "id": "757ba380-b4d9-4ca4-b939-5f2a06bba179",
      "metadata": {
        "tags": [],
        "id": "757ba380-b4d9-4ca4-b939-5f2a06bba179",
        "outputId": "7f936808-4bc9-4961-a97e-dd7ec77e24b6"
      },
      "outputs": [
        {
          "name": "stdout",
          "output_type": "stream",
          "text": [
            "[('a', 'b'), ('a', 'c'), ('b', 'a'), ('b', 'c'), ('c', 'a'), ('c', 'b')]\n",
            "[('a', 'b'), ('a', 'c'), ('b', 'c')]\n",
            "[('a', 'a'), ('a', 'b'), ('a', 'c'), ('b', 'a'), ('b', 'b'), ('b', 'c'), ('c', 'a'), ('c', 'b'), ('c', 'c')]\n",
            "[('a', 'a'), ('a', 'b'), ('a', 'c'), ('b', 'b'), ('b', 'c'), ('c', 'c')]\n"
          ]
        }
      ],
      "source": [
        "from itertools import permutations, combinations, product, combinations_with_replacement\n",
        "\n",
        "data = ['a', 'b', 'c']\n",
        "print(list(permutations(data, 2)))\n",
        "print(list(combinations(data, 2)))\n",
        "print(list(product(data, repeat=2)))\n",
        "print(list(combinations_with_replacement(data, 2)))"
      ]
    },
    {
      "cell_type": "markdown",
      "id": "f64d92f8-1450-4a00-a3fc-a3cf0788a0de",
      "metadata": {
        "id": "f64d92f8-1450-4a00-a3fc-a3cf0788a0de"
      },
      "source": [
        "- `Counter`를 가지고 등장 횟수를 세는 기능을 사용한다. wordcloud 등과 같은 것을 만들 때 사용한다."
      ]
    },
    {
      "cell_type": "code",
      "execution_count": null,
      "id": "70739df4-faf0-486c-9cfc-f41164f973de",
      "metadata": {
        "tags": [],
        "id": "70739df4-faf0-486c-9cfc-f41164f973de",
        "outputId": "463340a4-5a3f-4c1c-a0b1-bcfb4989e0d7"
      },
      "outputs": [
        {
          "name": "stdout",
          "output_type": "stream",
          "text": [
            "3\n",
            "2\n",
            "0\n",
            "{'a': 3, 'b': 1, 'c': 2, 'd': 1, 's': 1}\n"
          ]
        }
      ],
      "source": [
        "from collections import Counter\n",
        "\n",
        "counter = Counter(['a', 'b', 'c', 'd', 'a', 'a', 's', 'c'])\n",
        "\n",
        "print(counter['a'])\n",
        "print(counter['c'])\n",
        "print(counter['t'])\n",
        "print(dict(counter)) # 사전 자료형으로 반환"
      ]
    },
    {
      "cell_type": "markdown",
      "id": "c3770a93-fcc1-4b5d-b88f-e21234471ca7",
      "metadata": {
        "id": "c3770a93-fcc1-4b5d-b88f-e21234471ca7"
      },
      "source": [
        "- 최대 공약수, 최대 공배수는 `math`의 `gcd()`함수를 이용해서 구한다."
      ]
    },
    {
      "cell_type": "code",
      "execution_count": null,
      "id": "a4e8c943-cb20-43fc-9823-1a8f6844b4d7",
      "metadata": {
        "tags": [],
        "id": "a4e8c943-cb20-43fc-9823-1a8f6844b4d7",
        "outputId": "ad425a84-ae2b-4d6a-d9f9-7d236d7e291a"
      },
      "outputs": [
        {
          "name": "stdout",
          "output_type": "stream",
          "text": [
            "7\n",
            "1\n"
          ]
        }
      ],
      "source": [
        "import math\n",
        "\n",
        "print(math.gcd(21, 14))\n",
        "print(math.gcd(13, 17))"
      ]
    },
    {
      "cell_type": "code",
      "execution_count": null,
      "id": "c0658116-3789-4c94-9f96-a9ec2e18130a",
      "metadata": {
        "tags": [],
        "id": "c0658116-3789-4c94-9f96-a9ec2e18130a",
        "outputId": "921f4d47-efcd-40ea-9227-327b7d47d03c"
      },
      "outputs": [
        {
          "name": "stdout",
          "output_type": "stream",
          "text": [
            "42\n"
          ]
        }
      ],
      "source": [
        "# gcd()를 활용하여 최소 공배수 구하는 함수 구현\n",
        "def LCM(a, b):\n",
        "    return a*b // math.gcd(a, b)\n",
        "\n",
        "print(LCM(21, 14))"
      ]
    },
    {
      "cell_type": "markdown",
      "id": "adf2e66b-3586-44df-8235-8b0499b5d2ca",
      "metadata": {
        "id": "adf2e66b-3586-44df-8235-8b0499b5d2ca"
      },
      "source": [
        "## 7. 강의에서 다루지 않았지만 추가\n",
        "\n",
        "> 책에만 나와있는 것들 중 기억하고 싶은 내용들"
      ]
    },
    {
      "cell_type": "markdown",
      "id": "16dbf4a5-4928-42b4-8b0c-4d6beb3ed0fa",
      "metadata": {
        "id": "16dbf4a5-4928-42b4-8b0c-4d6beb3ed0fa"
      },
      "source": [
        "- `heapq` : heap 기능을 위한 라이브러리. 우선순위 큐 기능을 구현할 때 사용.(`PriorityQueue`보다 빠름)\n",
        "    - 삽입: `heapq.heappush()`\n",
        "    - 꺼내기: `heapq.heappop()`"
      ]
    },
    {
      "cell_type": "code",
      "execution_count": null,
      "id": "74a811f7-6467-4182-8560-05700c13671f",
      "metadata": {
        "tags": [],
        "id": "74a811f7-6467-4182-8560-05700c13671f",
        "outputId": "09a2591d-63a1-496f-b9b8-521c97ea08db"
      },
      "outputs": [
        {
          "name": "stdout",
          "output_type": "stream",
          "text": [
            "[0, 1, 2, 3, 4, 5, 6, 8]\n"
          ]
        }
      ],
      "source": [
        "import heapq\n",
        "\n",
        "def heapsort(iterable):\n",
        "    h = []\n",
        "    result = []\n",
        "    # 모든 원소를 차례대로 힙에 삽입\n",
        "    for value in iterable:\n",
        "        heapq.heappush(h, value)\n",
        "    # 힙에 삽입된 모든 원소를 차례대로 꺼내어 담기\n",
        "    for i in range(len(h)):\n",
        "        result.append(heapq.heappop(h))\n",
        "    return result\n",
        "\n",
        "result = heapsort([1, 3, 4, 6, 2, 5, 8, 0])\n",
        "print(result)"
      ]
    },
    {
      "cell_type": "markdown",
      "id": "1699733c-eae9-4863-b55e-e2adbe02ca4b",
      "metadata": {
        "tags": [],
        "id": "1699733c-eae9-4863-b55e-e2adbe02ca4b"
      },
      "source": [
        "- 최대 힙은 기본 제공되지 않으므로 원소의 부호를 임시로 변경하는 방식을 사용하여 구현한다."
      ]
    },
    {
      "cell_type": "code",
      "execution_count": null,
      "id": "615e43f2-eaae-4774-afee-352add37a04a",
      "metadata": {
        "tags": [],
        "id": "615e43f2-eaae-4774-afee-352add37a04a",
        "outputId": "20766f18-c75d-452d-bf51-161437b3b2cf"
      },
      "outputs": [
        {
          "name": "stdout",
          "output_type": "stream",
          "text": [
            "[8, 6, 5, 4, 3, 2, 1, 0]\n"
          ]
        }
      ],
      "source": [
        "def max_heapsort(iterable):\n",
        "    h = []\n",
        "    result = []\n",
        "    # 모든 원소를 차례대로 힙에 삽입\n",
        "    for value in iterable:\n",
        "        heapq.heappush(h, - value)\n",
        "    # 힙에 삽입된 모든 원소를 차례대로 꺼내어 담기\n",
        "    for i in range(len(h)):\n",
        "        result.append(- heapq.heappop(h))\n",
        "    return result\n",
        "    \n",
        "result = max_heapsort([1, 3, 4, 6, 2, 5, 8, 0])\n",
        "print(result)"
      ]
    },
    {
      "cell_type": "markdown",
      "id": "8053919b-092b-444b-af1b-d64f8b67669d",
      "metadata": {
        "id": "8053919b-092b-444b-af1b-d64f8b67669d"
      },
      "source": [
        "- `bisect`는 이진 탐색을 쉽게 구현할 수 있도록 도와주는 라이브러리. \n",
        "    - `bisect_left()`: 정렬 순서를 유지하며 리스트에 새로운 데이터를 삽입할 가장 `왼쪽` 인덱스를 찾음\n",
        "    - `bisect_right()`: 정렬 순서를 유지하며 리스트에 새로운 데이터를 삽입할 가장 `오른쪽` 인덱스를 찾음"
      ]
    },
    {
      "cell_type": "code",
      "execution_count": null,
      "id": "ee3a2cb7-a513-48e8-98e1-5f20d4d10f0e",
      "metadata": {
        "tags": [],
        "id": "ee3a2cb7-a513-48e8-98e1-5f20d4d10f0e",
        "outputId": "1857eccb-f218-400f-b14f-2bdfd7abd60b"
      },
      "outputs": [
        {
          "name": "stdout",
          "output_type": "stream",
          "text": [
            "2\n",
            "4\n"
          ]
        }
      ],
      "source": [
        "from bisect import bisect_left, bisect_right\n",
        "\n",
        "a = [1,2,4,4,8]\n",
        "x = 4\n",
        "\n",
        "print(bisect_left(a, x))\n",
        "print(bisect_right(a, x))"
      ]
    },
    {
      "cell_type": "markdown",
      "id": "0b5396cc-65f9-4779-a332-83109cb3e54e",
      "metadata": {
        "id": "0b5396cc-65f9-4779-a332-83109cb3e54e"
      },
      "source": [
        "- **정렬된 리스트**에서 **값이 특정 범위에 속하는 원소의 개수**를 구할려고 할 때 `bisect`가 유용하다."
      ]
    },
    {
      "cell_type": "code",
      "execution_count": null,
      "id": "dd1e4a65-488f-4790-958d-63a7f258b72a",
      "metadata": {
        "tags": [],
        "id": "dd1e4a65-488f-4790-958d-63a7f258b72a",
        "outputId": "dd582015-e854-42a2-c0f6-17386b43a1a8"
      },
      "outputs": [
        {
          "name": "stdout",
          "output_type": "stream",
          "text": [
            "2\n",
            "6\n"
          ]
        }
      ],
      "source": [
        "def count_by_range(a, left_value, right_value):\n",
        "    right_index = bisect_right(a, right_value)\n",
        "    left_index = bisect_left(a, left_value)\n",
        "    return right_index - left_index\n",
        "\n",
        "a = [1, 2, 3, 3, 3, 3, 4, 4, 8, 9] # 정렬되어 있음\n",
        "print(count_by_range(a, 4, 4))\n",
        "\n",
        "print(count_by_range(a, -1, 3))"
      ]
    },
    {
      "cell_type": "markdown",
      "id": "c8ea82ab-ec33-46c7-abc2-352e5ec3b551",
      "metadata": {
        "id": "c8ea82ab-ec33-46c7-abc2-352e5ec3b551"
      },
      "source": [
        "- `deque`: 큐이나 스택의 기능 모두 포함. 리스트와 다르게 인덱싱, 슬리이싱을 사용할 수는 없지만 시작부분이나 끝부분에 원소 추가와 제거의 시간 복잡도가 $O(1)$로 낮다.\n",
        "    - `popleft()`: 첫 번째 원소 제거\n",
        "    - `pop()`: 마지막 원소 제거\n",
        "    - `appendleft(x)`: 첫 번째 인덱스에 원소 x 삽입\n",
        "    - `append(x)`: 마지막 인덱스에 원소 x 삽입"
      ]
    },
    {
      "cell_type": "code",
      "execution_count": null,
      "id": "596da5da-b1b4-4ac1-bfd5-f375c4b3580d",
      "metadata": {
        "tags": [],
        "id": "596da5da-b1b4-4ac1-bfd5-f375c4b3580d",
        "outputId": "78e1f3e4-9616-4e37-ee78-7399dba72f84"
      },
      "outputs": [
        {
          "name": "stdout",
          "output_type": "stream",
          "text": [
            "deque([1, 2, 3, 4, 5])\n",
            "[1, 2, 3, 4, 5]\n"
          ]
        }
      ],
      "source": [
        "from collections import deque\n",
        "\n",
        "data = deque([2, 3, 4])\n",
        "data.appendleft(1)\n",
        "data.append(5)\n",
        "\n",
        "print(data)\n",
        "print(list(data))"
      ]
    }
  ],
  "metadata": {
    "kernelspec": {
      "display_name": "cote",
      "language": "python",
      "name": "cote"
    },
    "language_info": {
      "codemirror_mode": {
        "name": "ipython",
        "version": 3
      },
      "file_extension": ".py",
      "mimetype": "text/x-python",
      "name": "python",
      "nbconvert_exporter": "python",
      "pygments_lexer": "ipython3",
      "version": "3.7.16"
    },
    "colab": {
      "provenance": []
    }
  },
  "nbformat": 4,
  "nbformat_minor": 5
}